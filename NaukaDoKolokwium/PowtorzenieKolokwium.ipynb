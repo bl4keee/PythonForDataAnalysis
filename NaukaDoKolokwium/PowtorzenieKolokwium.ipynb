{
  "nbformat": 4,
  "nbformat_minor": 0,
  "metadata": {
    "colab": {
      "name": "PowtorzenieKolokwium.ipynb",
      "provenance": [],
      "collapsed_sections": [
        "oeOwtgAZJ86F",
        "S-y4hq81LWpL",
        "LRO2u7_7OK9f",
        "DkTUWHG8Tiz7",
        "scV0Hs2fVH7F",
        "uXu0foUNbVcQ",
        "V6pueXRRhB6m",
        "aJ1DywBdmXNX",
        "OPZ_SmmPqz5p",
        "6BmWZLfTq2mQ"
      ]
    },
    "kernelspec": {
      "name": "python3",
      "display_name": "Python 3"
    }
  },
  "cells": [
    {
      "cell_type": "markdown",
      "metadata": {
        "id": "9KkdIMP9HxwZ",
        "colab_type": "text"
      },
      "source": [
        "**IMPORT MODUŁÓW I DANYCH**"
      ]
    },
    {
      "cell_type": "code",
      "metadata": {
        "id": "4RJ2_lNZHGc8",
        "colab_type": "code",
        "outputId": "b0832781-f02d-4234-ed23-5cc31fac1503",
        "colab": {
          "base_uri": "https://localhost:8080/",
          "height": 204
        }
      },
      "source": [
        "import pandas as pd\n",
        "import numpy as np\n",
        "dane = pd.read_excel(\"test2.xlsx\") ## zmieniłem w pliku nazwę kolumny z 'class' na 'klasa', by nie było problemu z pythonem\n",
        "dane.head()"
      ],
      "execution_count": 0,
      "outputs": [
        {
          "output_type": "execute_result",
          "data": {
            "text/html": [
              "<div>\n",
              "<style scoped>\n",
              "    .dataframe tbody tr th:only-of-type {\n",
              "        vertical-align: middle;\n",
              "    }\n",
              "\n",
              "    .dataframe tbody tr th {\n",
              "        vertical-align: top;\n",
              "    }\n",
              "\n",
              "    .dataframe thead th {\n",
              "        text-align: right;\n",
              "    }\n",
              "</style>\n",
              "<table border=\"1\" class=\"dataframe\">\n",
              "  <thead>\n",
              "    <tr style=\"text-align: right;\">\n",
              "      <th></th>\n",
              "      <th>sex</th>\n",
              "      <th>age</th>\n",
              "      <th>klasa</th>\n",
              "      <th>fc11</th>\n",
              "      <th>fp29</th>\n",
              "      <th>fp55</th>\n",
              "      <th>fp56</th>\n",
              "      <th>fp65</th>\n",
              "      <th>Unnamed: 8</th>\n",
              "      <th>Unnamed: 9</th>\n",
              "      <th>Unnamed: 10</th>\n",
              "      <th>Unnamed: 11</th>\n",
              "    </tr>\n",
              "  </thead>\n",
              "  <tbody>\n",
              "    <tr>\n",
              "      <th>0</th>\n",
              "      <td>1</td>\n",
              "      <td>34</td>\n",
              "      <td>1</td>\n",
              "      <td>2</td>\n",
              "      <td>1</td>\n",
              "      <td>184</td>\n",
              "      <td>90</td>\n",
              "      <td>3000</td>\n",
              "      <td>NaN</td>\n",
              "      <td>NaN</td>\n",
              "      <td>NaN</td>\n",
              "      <td>NaN</td>\n",
              "    </tr>\n",
              "    <tr>\n",
              "      <th>1</th>\n",
              "      <td>1</td>\n",
              "      <td>48</td>\n",
              "      <td>1</td>\n",
              "      <td>4</td>\n",
              "      <td>1</td>\n",
              "      <td>180</td>\n",
              "      <td>90</td>\n",
              "      <td>2000</td>\n",
              "      <td>NaN</td>\n",
              "      <td>NaN</td>\n",
              "      <td>NaN</td>\n",
              "      <td>1062.000000</td>\n",
              "    </tr>\n",
              "    <tr>\n",
              "      <th>2</th>\n",
              "      <td>1</td>\n",
              "      <td>59</td>\n",
              "      <td>1</td>\n",
              "      <td>2</td>\n",
              "      <td>1</td>\n",
              "      <td>178</td>\n",
              "      <td>90</td>\n",
              "      <td>3000</td>\n",
              "      <td>NaN</td>\n",
              "      <td>NaN</td>\n",
              "      <td>NaN</td>\n",
              "      <td>42.258278</td>\n",
              "    </tr>\n",
              "    <tr>\n",
              "      <th>3</th>\n",
              "      <td>1</td>\n",
              "      <td>55</td>\n",
              "      <td>1</td>\n",
              "      <td>2</td>\n",
              "      <td>1</td>\n",
              "      <td>174</td>\n",
              "      <td>85</td>\n",
              "      <td>1900</td>\n",
              "      <td>NaN</td>\n",
              "      <td>NaN</td>\n",
              "      <td>NaN</td>\n",
              "      <td>NaN</td>\n",
              "    </tr>\n",
              "    <tr>\n",
              "      <th>4</th>\n",
              "      <td>1</td>\n",
              "      <td>22</td>\n",
              "      <td>1</td>\n",
              "      <td>1</td>\n",
              "      <td>1</td>\n",
              "      <td>190</td>\n",
              "      <td>80</td>\n",
              "      <td>1100</td>\n",
              "      <td>NaN</td>\n",
              "      <td>NaN</td>\n",
              "      <td>NaN</td>\n",
              "      <td>NaN</td>\n",
              "    </tr>\n",
              "  </tbody>\n",
              "</table>\n",
              "</div>"
            ],
            "text/plain": [
              "   sex  age  klasa  fc11  ...  Unnamed: 8  Unnamed: 9  Unnamed: 10  Unnamed: 11\n",
              "0    1   34      1     2  ...         NaN         NaN          NaN          NaN\n",
              "1    1   48      1     4  ...         NaN         NaN          NaN  1062.000000\n",
              "2    1   59      1     2  ...         NaN         NaN          NaN    42.258278\n",
              "3    1   55      1     2  ...         NaN         NaN          NaN          NaN\n",
              "4    1   22      1     1  ...         NaN         NaN          NaN          NaN\n",
              "\n",
              "[5 rows x 12 columns]"
            ]
          },
          "metadata": {
            "tags": []
          },
          "execution_count": 93
        }
      ]
    },
    {
      "cell_type": "markdown",
      "metadata": {
        "id": "cFwPQ7C-INsc",
        "colab_type": "text"
      },
      "source": [
        "# EXERCISE 1"
      ]
    },
    {
      "cell_type": "code",
      "metadata": {
        "id": "RGaLEZahIzmX",
        "colab_type": "code",
        "outputId": "61d6031b-83d1-4e8b-8ea4-15468feaccac",
        "colab": {
          "base_uri": "https://localhost:8080/",
          "height": 238
        }
      },
      "source": [
        "a = dane.query('fc11 == 2')\n",
        "a.describe()\n",
        "a.count()"
      ],
      "execution_count": 0,
      "outputs": [
        {
          "output_type": "execute_result",
          "data": {
            "text/plain": [
              "sex            1062\n",
              "age            1062\n",
              "klasa          1062\n",
              "fc11           1062\n",
              "fp29           1062\n",
              "fp55           1062\n",
              "fp56           1062\n",
              "fp65           1062\n",
              "Unnamed: 8        0\n",
              "Unnamed: 9        0\n",
              "Unnamed: 10       0\n",
              "Unnamed: 11       1\n",
              "dtype: int64"
            ]
          },
          "metadata": {
            "tags": []
          },
          "execution_count": 95
        }
      ]
    },
    {
      "cell_type": "markdown",
      "metadata": {
        "id": "kRKl2myuJjbt",
        "colab_type": "text"
      },
      "source": [
        "ANSWER: 1062 married persons took part in the survey."
      ]
    },
    {
      "cell_type": "markdown",
      "metadata": {
        "id": "oeOwtgAZJ86F",
        "colab_type": "text"
      },
      "source": [
        "# EXERCISE 2"
      ]
    },
    {
      "cell_type": "code",
      "metadata": {
        "id": "rsi3-RODJ_c1",
        "colab_type": "code",
        "outputId": "33beb3b6-70d6-4b4a-b874-e4f90674d62f",
        "colab": {
          "base_uri": "https://localhost:8080/",
          "height": 34
        }
      },
      "source": [
        "a[\"age\"].mean()"
      ],
      "execution_count": 0,
      "outputs": [
        {
          "output_type": "execute_result",
          "data": {
            "text/plain": [
              "44.83427495291902"
            ]
          },
          "metadata": {
            "tags": []
          },
          "execution_count": 11
        }
      ]
    },
    {
      "cell_type": "markdown",
      "metadata": {
        "id": "qbXJGWQ_LJ7M",
        "colab_type": "text"
      },
      "source": [
        "ANSWER: The average age (variable age) of married persons (variable fc11) was 45 years. "
      ]
    },
    {
      "cell_type": "markdown",
      "metadata": {
        "id": "S-y4hq81LWpL",
        "colab_type": "text"
      },
      "source": [
        "# EXERCISE 3"
      ]
    },
    {
      "cell_type": "code",
      "metadata": {
        "id": "1AM9b5OTLZIv",
        "colab_type": "code",
        "outputId": "093dd7ff-5ef2-41e0-e183-edf4afc01196",
        "colab": {
          "base_uri": "https://localhost:8080/",
          "height": 170
        }
      },
      "source": [
        "maleIncome = dane.query(\"sex == 1 & fp65 > 0\")\n",
        "min = maleIncome.min()\n",
        "min # 200\n",
        "max = maleIncome.max()\n",
        "max # 30 000\n",
        "mean = maleIncome.mean()\n",
        "mean # 2251\n",
        "standard = maleIncome.std()\n",
        "standard ## 1898,57\n",
        "median = maleIncome.median()\n",
        "median ## 2000\n"
      ],
      "execution_count": 0,
      "outputs": [
        {
          "output_type": "execute_result",
          "data": {
            "text/plain": [
              "sex         1.0\n",
              "age        42.0\n",
              "class       5.0\n",
              "fc11        2.0\n",
              "fp29        1.0\n",
              "fp55      176.0\n",
              "fp56       83.0\n",
              "fp65     2000.0\n",
              "dtype: float64"
            ]
          },
          "metadata": {
            "tags": []
          },
          "execution_count": 28
        }
      ]
    },
    {
      "cell_type": "markdown",
      "metadata": {
        "id": "ExF-PABKNz-G",
        "colab_type": "text"
      },
      "source": [
        "ANSWER:\n",
        "*   MIN = 200\n",
        "*   MAX = 30 000\n",
        "*   MEAN = 2251\n",
        "*   STD = 1898,57\n",
        "*   MEDIAN = 2000\n"
      ]
    },
    {
      "cell_type": "markdown",
      "metadata": {
        "id": "LRO2u7_7OK9f",
        "colab_type": "text"
      },
      "source": [
        "# EXERCISE 4"
      ]
    },
    {
      "cell_type": "code",
      "metadata": {
        "id": "MLRvSJmeTh0y",
        "colab_type": "code",
        "outputId": "8bf42bf2-86df-4500-fb62-4f7d2343caa2",
        "colab": {
          "base_uri": "https://localhost:8080/",
          "height": 238
        }
      },
      "source": [
        "local500pleasure = dane.query('klasa == 1 & fp29 == 1')\n",
        "local500pleasure.count() # 59\n",
        "\n",
        "local500achieving = dane.query('klasa == 1 & fp29 == 2')\n",
        "local500achieving.count() # 83\n",
        "\n",
        "local200pleasure = dane.query('klasa == 2 & fp29 == 1')\n",
        "local200pleasure.count() # 60\n",
        "\n",
        "local200achieving = dane.query('klasa == 2 & fp29 == 2')\n",
        "local200achieving.count() # 76\n",
        "\n",
        "local100pleasure = dane.query('klasa == 3 & fp29 == 1')\n",
        "local100pleasure.count() # 45\n",
        "\n",
        "local100achieving = dane.query('klasa == 3 & fp29 == 2')\n",
        "local100achieving.count() # 56\n",
        "\n",
        "local20pleasure = dane.query('klasa == 4 & fp29 == 1')\n",
        "local20pleasure.count() # 123\n",
        "\n",
        "local20achieving = dane.query('klasa == 4 & fp29 == 2')\n",
        "local20achieving.count() # 139\n",
        "\n",
        "localmin20pleasure = dane.query('klasa == 5 & fp29 == 1')\n",
        "localmin20pleasure.count() # 90\n",
        "\n",
        "localmin20achieving = dane.query('klasa == 5 & fp29 == 2')\n",
        "localmin20achieving.count() # 108\n",
        "\n",
        "localrurpleasure = dane.query('klasa == 6 & fp29 == 1')\n",
        "localrurpleasure.count() # 288\n",
        "\n",
        "localrurachieving = dane.query('klasa == 6 & fp29 == 2')\n",
        "localrurachieving.count() # 383\n"
      ],
      "execution_count": 0,
      "outputs": [
        {
          "output_type": "execute_result",
          "data": {
            "text/plain": [
              "sex            383\n",
              "age            383\n",
              "klasa          383\n",
              "fc11           383\n",
              "fp29           383\n",
              "fp55           383\n",
              "fp56           383\n",
              "fp65           383\n",
              "Unnamed: 8       0\n",
              "Unnamed: 9       0\n",
              "Unnamed: 10      0\n",
              "Unnamed: 11      0\n",
              "dtype: int64"
            ]
          },
          "metadata": {
            "tags": []
          },
          "execution_count": 160
        }
      ]
    },
    {
      "cell_type": "markdown",
      "metadata": {
        "id": "wuyQX0h6p3tL",
        "colab_type": "text"
      },
      "source": [
        "ANSWER:\n",
        "\n",
        "\n",
        "*   500T + --------> 59 ---> 83\n",
        "\n",
        "*   200T - 500T ---> 60 ---> 76\n",
        "\n",
        "*   100T - 200T ---> 45 ---> 56\n",
        "\n",
        "*   20T - 100T ----> 123 ---> 139\n",
        "\n",
        "*   min20T ---------> 90 ---> 108\n",
        "\n",
        "*   Rural ---------> 288 ---> 383\n",
        "\n",
        "\n",
        "\n"
      ]
    },
    {
      "cell_type": "markdown",
      "metadata": {
        "id": "DkTUWHG8Tiz7",
        "colab_type": "text"
      },
      "source": [
        "# EXERCISE 5"
      ]
    },
    {
      "cell_type": "code",
      "metadata": {
        "id": "vevt_u36Tkxn",
        "colab_type": "code",
        "outputId": "e8f26ec1-6024-4dc9-9715-57832e115d14",
        "colab": {
          "base_uri": "https://localhost:8080/",
          "height": 170
        }
      },
      "source": [
        "maleUpTo35 = dane.query('sex == 1 & age <= 35') \n",
        "maleUpTo35.count() # there are 260\n",
        "maleAbove35 = dane.query('sex == 1 & age > 35')\n",
        "maleAbove35.count() # there are 555\n",
        "femaleUpTo35 = dane.query('sex == 2 & age <= 35')\n",
        "femaleUpTo35.count() # there are 225\n",
        "femaleAbove35 = dane.query('sex == 2 & age > 35')\n",
        "femaleAbove35.count() # there are 470"
      ],
      "execution_count": 0,
      "outputs": [
        {
          "output_type": "execute_result",
          "data": {
            "text/plain": [
              "sex      470\n",
              "age      470\n",
              "class    470\n",
              "fc11     470\n",
              "fp29     470\n",
              "fp55     470\n",
              "fp56     470\n",
              "fp65     470\n",
              "dtype: int64"
            ]
          },
          "metadata": {
            "tags": []
          },
          "execution_count": 64
        }
      ]
    },
    {
      "cell_type": "markdown",
      "metadata": {
        "id": "XEV9zrC6U3CG",
        "colab_type": "text"
      },
      "source": [
        "ANSWER:\n",
        "\n",
        "*   Male up to 35 = 260\n",
        "*   Male above 35 = 555\n",
        "*   Female up to 35 = 225\n",
        "*   Female above 35 = 470\n",
        "\n"
      ]
    },
    {
      "cell_type": "markdown",
      "metadata": {
        "id": "scV0Hs2fVH7F",
        "colab_type": "text"
      },
      "source": [
        "# EXERCISE 6"
      ]
    },
    {
      "cell_type": "code",
      "metadata": {
        "id": "7RMrRKw9VKpa",
        "colab_type": "code",
        "outputId": "42d131c5-97b6-43bb-9b2f-975892220e7e",
        "colab": {
          "base_uri": "https://localhost:8080/",
          "height": 34
        }
      },
      "source": [
        "sumOfAll = dane[\"fc11\"]\n",
        "sumOfAll.count() # 1510\n",
        "\n",
        "single = dane.query('fc11 == 1')\n",
        "single.count() # 340\n",
        "singleFinal = 340/1510\n",
        "singleFinal # 22,5%\n",
        "\n",
        "married = dane.query('fc11 == 2')\n",
        "married.count() # 1062\n",
        "marriedFinal = 1062/1510\n",
        "marriedFinal # 70,3%\n",
        "\n",
        "widow = dane.query('fc11 == 3')\n",
        "widow.count() # 47\n",
        "widowFinal = 47/1510\n",
        "widowFinal # 3,1%\n",
        "\n",
        "divorced = dane.query('fc11 == 4')\n",
        "divorced.count() # 49\n",
        "divorcedFinal = 49/1510\n",
        "divorcedFinal # 3,2%\n",
        "\n",
        "legalSep = dane.query('fc11 == 5')\n",
        "legalSep.count() # 5\n",
        "legalSepFinal = 5/1510\n",
        "legalSepFinal # 0,3%\n",
        "\n",
        "actualSep = dane.query('fc11 == 6')\n",
        "actualSep.count() # 7\n",
        "actualSepFinal = 7/1510\n",
        "actualSepFinal # 0,4%"
      ],
      "execution_count": 0,
      "outputs": [
        {
          "output_type": "execute_result",
          "data": {
            "text/plain": [
              "0.004635761589403974"
            ]
          },
          "metadata": {
            "tags": []
          },
          "execution_count": 89
        }
      ]
    },
    {
      "cell_type": "markdown",
      "metadata": {
        "id": "_jyZpvina8kV",
        "colab_type": "text"
      },
      "source": [
        "ANSWER:\n",
        "\n",
        "*   single = 22,5%\n",
        "*   married = 70,3%\n",
        "*   widow = 3,1%\n",
        "*   divorced = 3,2%\n",
        "*   legal separation = 0,3%\n",
        "*   actual separation = 0,4%\n",
        "\n",
        "\n",
        "\n"
      ]
    },
    {
      "cell_type": "markdown",
      "metadata": {
        "id": "uXu0foUNbVcQ",
        "colab_type": "text"
      },
      "source": [
        "# EXERCISE 7"
      ]
    },
    {
      "cell_type": "code",
      "metadata": {
        "id": "zALuFIZ3bXx-",
        "colab_type": "code",
        "outputId": "155ef639-86dc-4502-ad50-4947b16b892a",
        "colab": {
          "base_uri": "https://localhost:8080/",
          "height": 51
        }
      },
      "source": [
        "malesFinal = dane.query('klasa == 1 & sex == 1')\n",
        "malesFinal.count() ## 65 - males living in 500T+ cities\n",
        "\n",
        "height = malesFinal['fp55'].tolist()\n",
        "weight = malesFinal['fp56'].tolist()\n",
        "np.corrcoef(height, weight) ## Pearson coefficient takes two lists\n"
      ],
      "execution_count": 0,
      "outputs": [
        {
          "output_type": "execute_result",
          "data": {
            "text/plain": [
              "array([[1.        , 0.21899072],\n",
              "       [0.21899072, 1.        ]])"
            ]
          },
          "metadata": {
            "tags": []
          },
          "execution_count": 107
        }
      ]
    },
    {
      "cell_type": "code",
      "metadata": {
        "id": "w3sTmnuegNyS",
        "colab_type": "code",
        "outputId": "7d8d6b09-69cc-4a54-eed1-b8e1f4b38434",
        "colab": {
          "base_uri": "https://localhost:8080/",
          "height": 34
        }
      },
      "source": [
        "# DRUGI SPOSÓB\n",
        "from pydoc import help\n",
        "from scipy.stats.stats import pearsonr\n",
        "\n",
        "pearsonr(height, weight) "
      ],
      "execution_count": 0,
      "outputs": [
        {
          "output_type": "execute_result",
          "data": {
            "text/plain": [
              "(0.21899071697678668, 0.0796630896373852)"
            ]
          },
          "metadata": {
            "tags": []
          },
          "execution_count": 110
        }
      ]
    },
    {
      "cell_type": "markdown",
      "metadata": {
        "id": "9x4a0MwJgr2V",
        "colab_type": "text"
      },
      "source": [
        "Współczynnik korelacji liniowej Pearsona wykazuje niską korelację pomiędzy wzrostem, a wagą mężczyzn żyjących w miastach powyżej 500T mieszkańców."
      ]
    },
    {
      "cell_type": "markdown",
      "metadata": {
        "id": "V6pueXRRhB6m",
        "colab_type": "text"
      },
      "source": [
        "# EXERCISE 8"
      ]
    },
    {
      "cell_type": "code",
      "metadata": {
        "id": "MVVdI2k3hD7w",
        "colab_type": "code",
        "outputId": "c173f1e8-d537-454f-91b9-a68886d3b2d8",
        "colab": {
          "base_uri": "https://localhost:8080/",
          "height": 170
        }
      },
      "source": [
        "female = dane.query('sex == 2 & fp55 > 0')\n",
        "female[\"fp55\"].describe()"
      ],
      "execution_count": 0,
      "outputs": [
        {
          "output_type": "execute_result",
          "data": {
            "text/plain": [
              "count    695.000000\n",
              "mean     164.056115\n",
              "std        5.669171\n",
              "min      142.000000\n",
              "25%      160.000000\n",
              "50%      164.000000\n",
              "75%      168.000000\n",
              "max      186.000000\n",
              "Name: fp55, dtype: float64"
            ]
          },
          "metadata": {
            "tags": []
          },
          "execution_count": 142
        }
      ]
    },
    {
      "cell_type": "markdown",
      "metadata": {
        "id": "rCO3_mSCmOJ3",
        "colab_type": "text"
      },
      "source": [
        "ANSWER: \n",
        "\n",
        "*   Q1 = 160\n",
        "*   Q2 = 164\n",
        "*   Q3 = 168\n",
        "\n",
        "\n"
      ]
    },
    {
      "cell_type": "markdown",
      "metadata": {
        "id": "aJ1DywBdmXNX",
        "colab_type": "text"
      },
      "source": [
        "# EXERCISE 9"
      ]
    },
    {
      "cell_type": "code",
      "metadata": {
        "id": "Srw1oX1amZDf",
        "colab_type": "code",
        "colab": {}
      },
      "source": [
        "import seaborn as sns"
      ],
      "execution_count": 0,
      "outputs": []
    },
    {
      "cell_type": "code",
      "metadata": {
        "id": "zV_N1t4Tu_BN",
        "colab_type": "code",
        "outputId": "f58398a1-57e9-4d29-ce99-ed72b08817d5",
        "colab": {
          "base_uri": "https://localhost:8080/",
          "height": 206
        }
      },
      "source": [
        "sns.pairplot(data = dane, vars = [\"sex\"])"
      ],
      "execution_count": 0,
      "outputs": [
        {
          "output_type": "execute_result",
          "data": {
            "text/plain": [
              "<seaborn.axisgrid.PairGrid at 0x7f6e4952d470>"
            ]
          },
          "metadata": {
            "tags": []
          },
          "execution_count": 178
        },
        {
          "output_type": "display_data",
          "data": {
            "image/png": "[encoded data removed]",
            "text/plain": [
              "<Figure size 180x180 with 2 Axes>"
            ]
          },
          "metadata": {
            "tags": []
          }
        }
      ]
    },
    {
      "cell_type": "markdown",
      "metadata": {
        "id": "OPZ_SmmPqz5p",
        "colab_type": "text"
      },
      "source": [
        "# EXERCISE 10"
      ]
    },
    {
      "cell_type": "code",
      "metadata": {
        "id": "oxPIgNtyxDlA",
        "colab_type": "code",
        "outputId": "fd6a0132-bb21-4cf8-811c-66f1d1c5c962",
        "colab": {
          "base_uri": "https://localhost:8080/",
          "height": 68
        }
      },
      "source": [
        "radian = float(input('Radius of sphere: '))\n",
        "pi=3.14\n",
        "sur_area = 4 * pi * radian **2\n",
        "volume = (4/3) * (pi * radian ** 3)\n",
        "print(\"Surface Area is: \", sur_area)\n",
        "print(\"Volume is: \", volume)"
      ],
      "execution_count": 0,
      "outputs": [
        {
          "output_type": "stream",
          "text": [
            "Radius of sphere: 3\n",
            "Surface Area is:  113.04\n",
            "Volume is:  113.03999999999999\n"
          ],
          "name": "stdout"
        }
      ]
    },
    {
      "cell_type": "markdown",
      "metadata": {
        "id": "6BmWZLfTq2mQ",
        "colab_type": "text"
      },
      "source": [
        "# EXERCISE 11"
      ]
    },
    {
      "cell_type": "code",
      "metadata": {
        "id": "DhbnUmOoq4fU",
        "colab_type": "code",
        "colab": {}
      },
      "source": [
        "a = np.array([(19, -13), (30, 3), (-35, 56)])\n",
        "b = np.array([(-5, -1), (-30, 45), (35, 56)])"
      ],
      "execution_count": 0,
      "outputs": []
    },
    {
      "cell_type": "code",
      "metadata": {
        "id": "nALrckdVra1o",
        "colab_type": "code",
        "outputId": "a85a78ce-e873-41bc-ab65-69ded958f86b",
        "colab": {
          "base_uri": "https://localhost:8080/",
          "height": 68
        }
      },
      "source": [
        "4*a-2*b"
      ],
      "execution_count": 0,
      "outputs": [
        {
          "output_type": "execute_result",
          "data": {
            "text/plain": [
              "array([[  86,  -50],\n",
              "       [ 180,  -78],\n",
              "       [-210,  112]])"
            ]
          },
          "metadata": {
            "tags": []
          },
          "execution_count": 165
        }
      ]
    },
    {
      "cell_type": "code",
      "metadata": {
        "id": "VO6k1S4Mrlv6",
        "colab_type": "code",
        "outputId": "c4a08630-bc9f-4034-efa4-b0e7d14bf5d3",
        "colab": {
          "base_uri": "https://localhost:8080/",
          "height": 51
        }
      },
      "source": [
        "np.linalg.inv(a.T @ b)\n",
        "\n"
      ],
      "execution_count": 0,
      "outputs": [
        {
          "output_type": "execute_result",
          "data": {
            "text/plain": [
              "array([[-0.00054072, -0.00010357],\n",
              "       [ 0.0003186 ,  0.00036553]])"
            ]
          },
          "metadata": {
            "tags": []
          },
          "execution_count": 175
        }
      ]
    }
  ]
}